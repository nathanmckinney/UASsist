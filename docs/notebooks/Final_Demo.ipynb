{
 "cells": [
  {
   "cell_type": "code",
   "execution_count": null,
   "id": "87763b73",
   "metadata": {},
   "outputs": [],
   "source": [
    "import uassist"
   ]
  },
  {
   "cell_type": "code",
   "execution_count": null,
   "id": "ef9dc15c",
   "metadata": {},
   "outputs": [],
   "source": [
    "m = uassist.Map()\n",
    "m"
   ]
  },
  {
   "cell_type": "markdown",
   "id": "42f8c7d5",
   "metadata": {},
   "source": [
    "## Display CSV points examples\n",
    "\n",
    "### Plot CSV as point markers\n",
    "\n",
    "![csv to point example](https://i.imgur.com/91uTd9g.gif)\n",
    "\n",
    "\n",
    "### Plot CSV as clustering markers\n",
    "\n",
    "![csv to cluster example](https://imgur.com/KURpkUf.gif)"
   ]
  },
  {
   "cell_type": "markdown",
   "id": "21e0fc9d",
   "metadata": {},
   "source": [
    "## Convert CSV file to GeoJSON"
   ]
  },
  {
   "cell_type": "code",
   "execution_count": null,
   "id": "d9ca3817",
   "metadata": {},
   "outputs": [],
   "source": [
    "from uassist.conversions import *\n",
    "df = csv_to_df(r'/Users/mckinney/uassist/docs/notebooks/data/world_cities.csv')\n",
    "csvdf_to_geojson(df, 'latitude', 'longitude', 'world_cities.geojson')"
   ]
  },
  {
   "cell_type": "code",
   "execution_count": null,
   "id": "05d78fcd",
   "metadata": {},
   "outputs": [],
   "source": []
  },
  {
   "cell_type": "code",
   "execution_count": null,
   "id": "503862eb",
   "metadata": {},
   "outputs": [],
   "source": []
  },
  {
   "cell_type": "code",
   "execution_count": null,
   "id": "bcd173dd",
   "metadata": {},
   "outputs": [],
   "source": []
  },
  {
   "cell_type": "code",
   "execution_count": null,
   "id": "0f809e63",
   "metadata": {},
   "outputs": [],
   "source": []
  }
 ],
 "metadata": {
  "kernelspec": {
   "display_name": "Python 3",
   "language": "python",
   "name": "python3"
  },
  "language_info": {
   "codemirror_mode": {
    "name": "ipython",
    "version": 3
   },
   "file_extension": ".py",
   "mimetype": "text/x-python",
   "name": "python",
   "nbconvert_exporter": "python",
   "pygments_lexer": "ipython3",
   "version": "3.8.8"
  }
 },
 "nbformat": 4,
 "nbformat_minor": 5
}
