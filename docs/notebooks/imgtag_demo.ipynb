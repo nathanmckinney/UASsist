{
 "cells": [
  {
   "cell_type": "code",
   "execution_count": null,
   "id": "familiar-document",
   "metadata": {},
   "outputs": [],
   "source": [
    "import uassist\n",
    "from uassist.imgtag import imgtag"
   ]
  },
  {
   "cell_type": "markdown",
   "id": "future-saskatchewan",
   "metadata": {},
   "source": [
    "The input is any JPEG or TIFF image. The package reads the metadata embedded in the file and returns the information relevant to photos taken as part of drone photogrammetry projects. Eventually the coordinates will be plotted on the map, but this function needs more work."
   ]
  },
  {
   "cell_type": "code",
   "execution_count": null,
   "id": "boolean-internship",
   "metadata": {},
   "outputs": [],
   "source": [
    "xyz = imgtag(r'data/img1.JPG')\n",
    "xy = (xyz[0],xyz[1])\n",
    "m = uassist.Map(center=xy, zoom=15, google_map = \"HYBRID\")\n",
    "marker = uassist.Marker(location=xy, draggable=False)\n",
    "m.add_layer(marker);\n",
    "m"
   ]
  },
  {
   "cell_type": "code",
   "execution_count": null,
   "id": "canadian-builder",
   "metadata": {},
   "outputs": [],
   "source": [
    "xyz = imgtag(r'data/img2.JPG')\n",
    "xy = (xyz[0],xyz[1])\n",
    "m = uassist.Map(center=xy, zoom=15, google_map = \"HYBRID\")\n",
    "marker = uassist.Marker(location=xy, draggable=False)\n",
    "m.add_layer(marker);\n",
    "m"
   ]
  },
  {
   "cell_type": "code",
   "execution_count": null,
   "id": "antique-imperial",
   "metadata": {},
   "outputs": [],
   "source": [
    "xyz = imgtag(r'data/img3.JPG')\n",
    "xy = (xyz[0],xyz[1])\n",
    "m = uassist.Map(center=xy, zoom=15, google_map = \"HYBRID\")\n",
    "marker = uassist.Marker(location=xy, draggable=False)\n",
    "m.add_layer(marker);\n",
    "m"
   ]
  },
  {
   "cell_type": "code",
   "execution_count": null,
   "id": "f3457765",
   "metadata": {},
   "outputs": [],
   "source": []
  }
 ],
 "metadata": {
  "celltoolbar": "Raw Cell Format",
  "kernelspec": {
   "display_name": "Python 3",
   "language": "python",
   "name": "python3"
  },
  "language_info": {
   "codemirror_mode": {
    "name": "ipython",
    "version": 3
   },
   "file_extension": ".py",
   "mimetype": "text/x-python",
   "name": "python",
   "nbconvert_exporter": "python",
   "pygments_lexer": "ipython3",
   "version": "3.8.8"
  }
 },
 "nbformat": 4,
 "nbformat_minor": 5
}
