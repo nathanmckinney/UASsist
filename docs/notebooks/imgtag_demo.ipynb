{
 "cells": [
  {
   "cell_type": "code",
   "execution_count": 1,
   "id": "familiar-document",
   "metadata": {},
   "outputs": [],
   "source": [
    "import uassist"
   ]
  },
  {
   "cell_type": "code",
   "execution_count": 4,
   "id": "beginning-jimmy",
   "metadata": {},
   "outputs": [],
   "source": [
    "from uassist.imgtag import imgtag"
   ]
  },
  {
   "cell_type": "markdown",
   "id": "future-saskatchewan",
   "metadata": {},
   "source": [
    "The input is any JPEG or TIFF image. The package reads the metadata embedded in the file and returns the information relevant to photos taken as part of drone photogrammetry projects. Eventually the coordinates will be plotted on the map, but this function needs more work."
   ]
  },
  {
   "cell_type": "code",
   "execution_count": null,
   "id": "boolean-internship",
   "metadata": {},
   "outputs": [],
   "source": [
    "imgtag(r'/Users/mckinney/nm510/docs/notebooks/data/img1.JPG')\n",
    "m = nm510.Map(center=[40,-100])\n",
    "m"
   ]
  },
  {
   "cell_type": "code",
   "execution_count": null,
   "id": "canadian-builder",
   "metadata": {},
   "outputs": [],
   "source": [
    "imgtag(r'/Users/mckinney/nm510/docs/notebooks/data/img2.JPG')\n",
    "m = nm510.Map(center=[40,-100])\n",
    "m"
   ]
  },
  {
   "cell_type": "code",
   "execution_count": null,
   "id": "antique-imperial",
   "metadata": {},
   "outputs": [],
   "source": [
    "imgtag(r'/Users/mckinney/nm510/docs/notebooks/data/img3.JPG')\n",
    "m = nm510.Map(center=[40,-100])\n",
    "m"
   ]
  },
  {
   "cell_type": "code",
   "execution_count": null,
   "id": "several-wiring",
   "metadata": {},
   "outputs": [],
   "source": []
  },
  {
   "cell_type": "code",
   "execution_count": null,
   "id": "mineral-recognition",
   "metadata": {},
   "outputs": [],
   "source": []
  }
 ],
 "metadata": {
  "celltoolbar": "Raw Cell Format",
  "kernelspec": {
   "display_name": "Python 3",
   "language": "python",
   "name": "python3"
  },
  "language_info": {
   "codemirror_mode": {
    "name": "ipython",
    "version": 3
   },
   "file_extension": ".py",
   "mimetype": "text/x-python",
   "name": "python",
   "nbconvert_exporter": "python",
   "pygments_lexer": "ipython3",
   "version": "3.8.8"
  }
 },
 "nbformat": 4,
 "nbformat_minor": 5
}
