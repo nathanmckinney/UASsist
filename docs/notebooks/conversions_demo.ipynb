{
 "cells": [
  {
   "cell_type": "code",
   "execution_count": null,
   "id": "968f5fef",
   "metadata": {},
   "outputs": [],
   "source": [
    "import uassist, ipyfilechooser, os\n",
    "from ipyfilechooser import FileChooser\n",
    "from uassist.conversions import *\n",
    "from ipyleaflet import Marker, MarkerCluster"
   ]
  },
  {
   "cell_type": "markdown",
   "id": "d1c239ae",
   "metadata": {},
   "source": [
    "## Select path to folder directory\n",
    "Choose the directory containing .jpg or .tif images. Currently the images must all be in this folder and not in any sub-directories."
   ]
  },
  {
   "cell_type": "code",
   "execution_count": null,
   "id": "6db1d2eb",
   "metadata": {},
   "outputs": [],
   "source": [
    "folderpath = os.path.abspath('/Users/mckinney/dev/img')\n",
    "fc = FileChooser(folderpath,\n",
    "    show_only_dirs = True,\n",
    "    use_dir_icons = True,\n",
    "    select_default = True,\n",
    "    title = '<b>Select folder containing image files</b>'\n",
    ")\n",
    "display(fc)"
   ]
  },
  {
   "cell_type": "markdown",
   "id": "59c3ac1b",
   "metadata": {},
   "source": [
    "## Imgdict function\n",
    "Extracts information from images into a dictionary structure. Usually only used as first step in conversion but could be called independently if needed."
   ]
  },
  {
   "cell_type": "code",
   "execution_count": null,
   "id": "4af14c1a",
   "metadata": {},
   "outputs": [],
   "source": [
    "idict = imgdict(fc.selected)\n",
    "print(idict)"
   ]
  },
  {
   "cell_type": "markdown",
   "id": "d8734a98",
   "metadata": {},
   "source": [
    "## Dict to DF function\n",
    "Creates Pandas dataframe from image information. Designed to be used in conversion functions but human readibility of the output makes it also a useful way to view data as a table and diagnose any problems in conversions."
   ]
  },
  {
   "cell_type": "code",
   "execution_count": null,
   "id": "34dc1896",
   "metadata": {},
   "outputs": [],
   "source": [
    "df = dict_to_df(fc.selected)\n",
    "df"
   ]
  },
  {
   "cell_type": "markdown",
   "id": "3d849ca6",
   "metadata": {},
   "source": [
    "## Img to CSV\n"
   ]
  },
  {
   "cell_type": "code",
   "execution_count": null,
   "id": "e634a837",
   "metadata": {},
   "outputs": [],
   "source": [
    "img_to_csv(fc.selected, fname='images.csv')\n",
    "\n",
    "with open(\"images.csv\", \"r\") as table:\n",
    "    for row in table:\n",
    "        print(row)"
   ]
  },
  {
   "cell_type": "markdown",
   "id": "4f638b71",
   "metadata": {},
   "source": [
    "## Img to GeoJSON"
   ]
  },
  {
   "cell_type": "code",
   "execution_count": null,
   "id": "fb1d1edf",
   "metadata": {},
   "outputs": [],
   "source": [
    "img_to_geojson(fc.selected, fname='images.geojson')"
   ]
  },
  {
   "cell_type": "markdown",
   "id": "e2a2e13c",
   "metadata": {},
   "source": [
    "## Img to GeoPackage"
   ]
  },
  {
   "cell_type": "code",
   "execution_count": null,
   "id": "4eb53f54",
   "metadata": {},
   "outputs": [],
   "source": [
    "img_to_geopackage(fc.selected, fname='images.gpkg')"
   ]
  },
  {
   "cell_type": "markdown",
   "id": "b0ce4ba4",
   "metadata": {},
   "source": [
    "## Img to KML"
   ]
  },
  {
   "cell_type": "code",
   "execution_count": null,
   "id": "e3f413e0",
   "metadata": {},
   "outputs": [],
   "source": [
    "img_to_kml(fc.selected, fname='images.kml')"
   ]
  },
  {
   "cell_type": "markdown",
   "id": "60485172",
   "metadata": {},
   "source": [
    "## Img to Shapefile"
   ]
  },
  {
   "cell_type": "code",
   "execution_count": null,
   "id": "a78a961f",
   "metadata": {},
   "outputs": [],
   "source": [
    "img_to_shp(fc.selected, fname='images.shp')"
   ]
  },
  {
   "cell_type": "code",
   "execution_count": null,
   "id": "299436b0",
   "metadata": {},
   "outputs": [],
   "source": [
    "m = uassist.Map(google_map = \"HYBRID\", height=\"600px\")\n",
    "m"
   ]
  },
  {
   "cell_type": "markdown",
   "id": "4a68c89a",
   "metadata": {},
   "source": [
    "## Add GeoJSON to map"
   ]
  },
  {
   "cell_type": "code",
   "execution_count": null,
   "id": "9e56d5e5",
   "metadata": {},
   "outputs": [],
   "source": [
    "in_geojson = \"images.geojson\"\n",
    "m.add_geojson(in_geojson, layer_name=\"images\")"
   ]
  },
  {
   "cell_type": "code",
   "execution_count": null,
   "id": "c74e15fe",
   "metadata": {},
   "outputs": [],
   "source": [
    "in_geojson = \"images.geojson\"\n"
   ]
  },
  {
   "cell_type": "code",
   "execution_count": null,
   "id": "c67fcec2",
   "metadata": {},
   "outputs": [],
   "source": [
    "from ipyleaflet import GeoJSON\n",
    "geo_json = GeoJSON(\n",
    "    data=in_geojson,\n",
    "    style={\n",
    "        'opacity': 1, 'dashArray': '9', 'fillOpacity': 0.1, 'weight': 1\n",
    "    },\n",
    "    hover_style={\n",
    "        'color': 'white', 'dashArray': '0', 'fillOpacity': 0.5\n",
    "    },\n",
    ")\n",
    "m.add_layer(geo_json)"
   ]
  },
  {
   "cell_type": "markdown",
   "id": "f4cf5b48",
   "metadata": {},
   "source": [
    "## Add locations from GeoDataFrame"
   ]
  },
  {
   "cell_type": "code",
   "execution_count": null,
   "id": "044d0f73",
   "metadata": {},
   "outputs": [],
   "source": [
    "from ipyleaflet import GeoData\n",
    "df = dict_to_df(fc.selected)\n",
    "for x in  df.select_dtypes(include=['datetime64']).columns.tolist(): df[x] = df[x].astype(str)\n",
    "gdf = df_to_gdf(df)\n",
    "gdflyr = GeoData(geo_dataframe = gdf)\n",
    "m.add_layer(gdflyr)"
   ]
  }
 ],
 "metadata": {
  "kernelspec": {
   "display_name": "Python 3",
   "language": "python",
   "name": "python3"
  },
  "language_info": {
   "codemirror_mode": {
    "name": "ipython",
    "version": 3
   },
   "file_extension": ".py",
   "mimetype": "text/x-python",
   "name": "python",
   "nbconvert_exporter": "python",
   "pygments_lexer": "ipython3",
   "version": "3.8.8"
  }
 },
 "nbformat": 4,
 "nbformat_minor": 5
}
