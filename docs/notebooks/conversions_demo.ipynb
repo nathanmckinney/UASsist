{
 "cells": [
  {
   "cell_type": "code",
   "execution_count": 1,
   "id": "1ab3fe71",
   "metadata": {},
   "outputs": [],
   "source": [
    "import uassist, ipyfilechooser, os\n",
    "from ipyfilechooser import FileChooser\n",
    "from uassist.conversions import *"
   ]
  },
  {
   "cell_type": "markdown",
   "id": "b7b8512c",
   "metadata": {},
   "source": [
    "## Select path to folder directory\n",
    "Choose the directory containing .jpg or .tif images. Currently the images must all be in this folder and not in any sub-directories."
   ]
  },
  {
   "cell_type": "code",
   "execution_count": 2,
   "id": "528bb5e8",
   "metadata": {},
   "outputs": [
    {
     "data": {
      "application/vnd.jupyter.widget-view+json": {
       "model_id": "7495c4195df846629fe3f55657ba8656",
       "version_major": 2,
       "version_minor": 0
      },
      "text/plain": [
       "FileChooser(path='/Users/mckinney/dev/img', filename='', title='HTML(value='<b>Select folder containing image …"
      ]
     },
     "metadata": {},
     "output_type": "display_data"
    }
   ],
   "source": [
    "folderpath = os.path.abspath('/Users/mckinney/dev/img')\n",
    "fc = FileChooser(folderpath,\n",
    "    show_only_dirs = True,\n",
    "    use_dir_icons = True,\n",
    "    select_default = True,\n",
    "    title = '<b>Select folder containing image files</b>'\n",
    ")\n",
    "display(fc)"
   ]
  },
  {
   "cell_type": "markdown",
   "id": "4280c73a",
   "metadata": {},
   "source": [
    "## Imgdict function\n",
    "Extracts information from images into a dictionary structure. Usually only used as first step in conversion but could be called independently if needed."
   ]
  },
  {
   "cell_type": "code",
   "execution_count": 3,
   "id": "6a8c3347",
   "metadata": {},
   "outputs": [
    {
     "name": "stdout",
     "output_type": "stream",
     "text": [
      "{'P7989173.JPG': ['P7989173.JPG', 30.3557859, -87.0459538, 98.83, datetime.datetime(2020, 11, 27, 16, 18, 35), 'Parrot Anafi', '4608 x 3456', [30.3557859, -87.0459538], '/Users/mckinney/dev/img//P7989173.JPG'], 'P7999189.JPG': ['P7999189.JPG', 30.355173, -87.0461552, 98.48, datetime.datetime(2020, 11, 27, 16, 19, 41), 'Parrot Anafi', '4608 x 3456', [30.355173, -87.0461552], '/Users/mckinney/dev/img//P7999189.JPG'], 'P7999188.JPG': ['P7999188.JPG', 30.3550509, -87.0463254, 98.55, datetime.datetime(2020, 11, 27, 16, 19, 38), 'Parrot Anafi', '4608 x 3456', [30.3550509, -87.0463254], '/Users/mckinney/dev/img//P7999188.JPG'], 'P7989175.JPG': ['P7989175.JPG', 30.3555478, -87.0462861, 98.97, datetime.datetime(2020, 11, 27, 16, 18, 41), 'Parrot Anafi', '4608 x 3456', [30.3555478, -87.0462861], '/Users/mckinney/dev/img//P7989175.JPG'], 'P7989174.JPG': ['P7989174.JPG', 30.3556671, -87.0461199, 98.93, datetime.datetime(2020, 11, 27, 16, 18, 38), 'Parrot Anafi', '4608 x 3456', [30.3556671, -87.0461199], '/Users/mckinney/dev/img//P7989174.JPG'], 'P7989176.JPG': ['P7989176.JPG', 30.3554244, -87.046458, 99.35, datetime.datetime(2020, 11, 27, 16, 18, 44), 'Parrot Anafi', '4608 x 3456', [30.3554244, -87.046458], '/Users/mckinney/dev/img//P7989176.JPG'], 'P7989177.JPG': ['P7989177.JPG', 30.3553049, -87.0466248, 99.51, datetime.datetime(2020, 11, 27, 16, 18, 47), 'Parrot Anafi', '4608 x 3456', [30.3553049, -87.0466248], '/Users/mckinney/dev/img//P7989177.JPG'], 'P7989179.JPG': ['P7989179.JPG', 30.3550621, -87.0469633, 99.37, datetime.datetime(2020, 11, 27, 16, 18, 54), 'Parrot Anafi', '4608 x 3456', [30.3550621, -87.0469633], '/Users/mckinney/dev/img//P7989179.JPG'], 'P7999183.JPG': ['P7999183.JPG', 30.3544292, -87.0471876, 98.54, datetime.datetime(2020, 11, 27, 16, 19, 19), 'Parrot Anafi', '4608 x 3456', [30.3544292, -87.0471876], '/Users/mckinney/dev/img//P7999183.JPG'], 'P7989178.JPG': ['P7989178.JPG', 30.3551844, -87.0467926, 99.36, datetime.datetime(2020, 11, 27, 16, 18, 51), 'Parrot Anafi', '4608 x 3456', [30.3551844, -87.0467926], '/Users/mckinney/dev/img//P7989178.JPG'], 'P7999192.JPG': ['P7999192.JPG', 30.3555342, -87.0456508, 97.69, datetime.datetime(2020, 11, 27, 16, 19, 51), 'Parrot Anafi', '4608 x 3456', [30.3555342, -87.0456508], '/Users/mckinney/dev/img//P7999192.JPG'], 'P7999186.JPG': ['P7999186.JPG', 30.3548085, -87.046662, 98.87, datetime.datetime(2020, 11, 27, 16, 19, 32), 'Parrot Anafi', '4608 x 3456', [30.3548085, -87.046662], '/Users/mckinney/dev/img//P7999186.JPG'], 'P7999187.JPG': ['P7999187.JPG', 30.3549304, -87.0464923, 98.81, datetime.datetime(2020, 11, 27, 16, 19, 35), 'Parrot Anafi', '4608 x 3456', [30.3549304, -87.0464923], '/Users/mckinney/dev/img//P7999187.JPG'], 'P7989182.JPG': ['P7989182.JPG', 30.3547121, -87.0474495, 98.62, datetime.datetime(2020, 11, 27, 16, 19, 4), 'Parrot Anafi', '4608 x 3456', [30.3547121, -87.0474495], '/Users/mckinney/dev/img//P7989182.JPG'], 'P7989180.JPG': ['P7989180.JPG', 30.3549428, -87.0471296, 99.24, datetime.datetime(2020, 11, 27, 16, 18, 57), 'Parrot Anafi', '4608 x 3456', [30.3549428, -87.0471296], '/Users/mckinney/dev/img//P7989180.JPG'], 'P7999185.JPG': ['P7999185.JPG', 30.3546866, -87.0468317, 98.98, datetime.datetime(2020, 11, 27, 16, 19, 29), 'Parrot Anafi', '4608 x 3456', [30.3546866, -87.0468317], '/Users/mckinney/dev/img//P7999185.JPG'], 'P7999191.JPG': ['P7999191.JPG', 30.3554143, -87.0458182, 98.15, datetime.datetime(2020, 11, 27, 16, 19, 48), 'Parrot Anafi', '4608 x 3456', [30.3554143, -87.0458182], '/Users/mckinney/dev/img//P7999191.JPG'], 'P7999190.JPG': ['P7999190.JPG', 30.3552924, -87.0459882, 98.47, datetime.datetime(2020, 11, 27, 16, 19, 45), 'Parrot Anafi', '4608 x 3456', [30.3552924, -87.0459882], '/Users/mckinney/dev/img//P7999190.JPG'], 'P7999184.JPG': ['P7999184.JPG', 30.3545673, -87.0469979, 99.04, datetime.datetime(2020, 11, 27, 16, 19, 25), 'Parrot Anafi', '4608 x 3456', [30.3545673, -87.0469979], '/Users/mckinney/dev/img//P7999184.JPG'], 'P7989181.JPG': ['P7989181.JPG', 30.354823, -87.0472968, 98.88, datetime.datetime(2020, 11, 27, 16, 19), 'Parrot Anafi', '4608 x 3456', [30.354823, -87.0472968], '/Users/mckinney/dev/img//P7989181.JPG']}\n"
     ]
    }
   ],
   "source": [
    "idict = imgdict(fc.selected)\n",
    "print(idict)"
   ]
  },
  {
   "cell_type": "markdown",
   "id": "91058fbd",
   "metadata": {},
   "source": [
    "## Dict to DF function\n",
    "Creates Pandas dataframe from image information. Designed to be used in conversion functions but human readibility of the output makes it also a useful way to view data as a table and diagnose any problems in conversions."
   ]
  },
  {
   "cell_type": "code",
   "execution_count": 4,
   "id": "5d3148b4",
   "metadata": {},
   "outputs": [
    {
     "data": {
      "text/html": [
       "<div>\n",
       "<style scoped>\n",
       "    .dataframe tbody tr th:only-of-type {\n",
       "        vertical-align: middle;\n",
       "    }\n",
       "\n",
       "    .dataframe tbody tr th {\n",
       "        vertical-align: top;\n",
       "    }\n",
       "\n",
       "    .dataframe thead th {\n",
       "        text-align: right;\n",
       "    }\n",
       "</style>\n",
       "<table border=\"1\" class=\"dataframe\">\n",
       "  <thead>\n",
       "    <tr style=\"text-align: right;\">\n",
       "      <th></th>\n",
       "      <th>filename</th>\n",
       "      <th>latdd</th>\n",
       "      <th>longdd</th>\n",
       "      <th>altitude</th>\n",
       "      <th>datetime</th>\n",
       "      <th>makemodel</th>\n",
       "      <th>height_width</th>\n",
       "      <th>xy_pair</th>\n",
       "      <th>filepath</th>\n",
       "    </tr>\n",
       "  </thead>\n",
       "  <tbody>\n",
       "    <tr>\n",
       "      <th>P7989173.JPG</th>\n",
       "      <td>P7989173.JPG</td>\n",
       "      <td>30.355786</td>\n",
       "      <td>-87.045954</td>\n",
       "      <td>98.83</td>\n",
       "      <td>2020-11-27 16:18:35</td>\n",
       "      <td>Parrot Anafi</td>\n",
       "      <td>4608 x 3456</td>\n",
       "      <td>[30.3557859, -87.0459538]</td>\n",
       "      <td>/Users/mckinney/dev/img//P7989173.JPG</td>\n",
       "    </tr>\n",
       "    <tr>\n",
       "      <th>P7999189.JPG</th>\n",
       "      <td>P7999189.JPG</td>\n",
       "      <td>30.355173</td>\n",
       "      <td>-87.046155</td>\n",
       "      <td>98.48</td>\n",
       "      <td>2020-11-27 16:19:41</td>\n",
       "      <td>Parrot Anafi</td>\n",
       "      <td>4608 x 3456</td>\n",
       "      <td>[30.355173, -87.0461552]</td>\n",
       "      <td>/Users/mckinney/dev/img//P7999189.JPG</td>\n",
       "    </tr>\n",
       "    <tr>\n",
       "      <th>P7999188.JPG</th>\n",
       "      <td>P7999188.JPG</td>\n",
       "      <td>30.355051</td>\n",
       "      <td>-87.046325</td>\n",
       "      <td>98.55</td>\n",
       "      <td>2020-11-27 16:19:38</td>\n",
       "      <td>Parrot Anafi</td>\n",
       "      <td>4608 x 3456</td>\n",
       "      <td>[30.3550509, -87.0463254]</td>\n",
       "      <td>/Users/mckinney/dev/img//P7999188.JPG</td>\n",
       "    </tr>\n",
       "    <tr>\n",
       "      <th>P7989175.JPG</th>\n",
       "      <td>P7989175.JPG</td>\n",
       "      <td>30.355548</td>\n",
       "      <td>-87.046286</td>\n",
       "      <td>98.97</td>\n",
       "      <td>2020-11-27 16:18:41</td>\n",
       "      <td>Parrot Anafi</td>\n",
       "      <td>4608 x 3456</td>\n",
       "      <td>[30.3555478, -87.0462861]</td>\n",
       "      <td>/Users/mckinney/dev/img//P7989175.JPG</td>\n",
       "    </tr>\n",
       "    <tr>\n",
       "      <th>P7989174.JPG</th>\n",
       "      <td>P7989174.JPG</td>\n",
       "      <td>30.355667</td>\n",
       "      <td>-87.046120</td>\n",
       "      <td>98.93</td>\n",
       "      <td>2020-11-27 16:18:38</td>\n",
       "      <td>Parrot Anafi</td>\n",
       "      <td>4608 x 3456</td>\n",
       "      <td>[30.3556671, -87.0461199]</td>\n",
       "      <td>/Users/mckinney/dev/img//P7989174.JPG</td>\n",
       "    </tr>\n",
       "    <tr>\n",
       "      <th>P7989176.JPG</th>\n",
       "      <td>P7989176.JPG</td>\n",
       "      <td>30.355424</td>\n",
       "      <td>-87.046458</td>\n",
       "      <td>99.35</td>\n",
       "      <td>2020-11-27 16:18:44</td>\n",
       "      <td>Parrot Anafi</td>\n",
       "      <td>4608 x 3456</td>\n",
       "      <td>[30.3554244, -87.046458]</td>\n",
       "      <td>/Users/mckinney/dev/img//P7989176.JPG</td>\n",
       "    </tr>\n",
       "    <tr>\n",
       "      <th>P7989177.JPG</th>\n",
       "      <td>P7989177.JPG</td>\n",
       "      <td>30.355305</td>\n",
       "      <td>-87.046625</td>\n",
       "      <td>99.51</td>\n",
       "      <td>2020-11-27 16:18:47</td>\n",
       "      <td>Parrot Anafi</td>\n",
       "      <td>4608 x 3456</td>\n",
       "      <td>[30.3553049, -87.0466248]</td>\n",
       "      <td>/Users/mckinney/dev/img//P7989177.JPG</td>\n",
       "    </tr>\n",
       "    <tr>\n",
       "      <th>P7989179.JPG</th>\n",
       "      <td>P7989179.JPG</td>\n",
       "      <td>30.355062</td>\n",
       "      <td>-87.046963</td>\n",
       "      <td>99.37</td>\n",
       "      <td>2020-11-27 16:18:54</td>\n",
       "      <td>Parrot Anafi</td>\n",
       "      <td>4608 x 3456</td>\n",
       "      <td>[30.3550621, -87.0469633]</td>\n",
       "      <td>/Users/mckinney/dev/img//P7989179.JPG</td>\n",
       "    </tr>\n",
       "    <tr>\n",
       "      <th>P7999183.JPG</th>\n",
       "      <td>P7999183.JPG</td>\n",
       "      <td>30.354429</td>\n",
       "      <td>-87.047188</td>\n",
       "      <td>98.54</td>\n",
       "      <td>2020-11-27 16:19:19</td>\n",
       "      <td>Parrot Anafi</td>\n",
       "      <td>4608 x 3456</td>\n",
       "      <td>[30.3544292, -87.0471876]</td>\n",
       "      <td>/Users/mckinney/dev/img//P7999183.JPG</td>\n",
       "    </tr>\n",
       "    <tr>\n",
       "      <th>P7989178.JPG</th>\n",
       "      <td>P7989178.JPG</td>\n",
       "      <td>30.355184</td>\n",
       "      <td>-87.046793</td>\n",
       "      <td>99.36</td>\n",
       "      <td>2020-11-27 16:18:51</td>\n",
       "      <td>Parrot Anafi</td>\n",
       "      <td>4608 x 3456</td>\n",
       "      <td>[30.3551844, -87.0467926]</td>\n",
       "      <td>/Users/mckinney/dev/img//P7989178.JPG</td>\n",
       "    </tr>\n",
       "    <tr>\n",
       "      <th>P7999192.JPG</th>\n",
       "      <td>P7999192.JPG</td>\n",
       "      <td>30.355534</td>\n",
       "      <td>-87.045651</td>\n",
       "      <td>97.69</td>\n",
       "      <td>2020-11-27 16:19:51</td>\n",
       "      <td>Parrot Anafi</td>\n",
       "      <td>4608 x 3456</td>\n",
       "      <td>[30.3555342, -87.0456508]</td>\n",
       "      <td>/Users/mckinney/dev/img//P7999192.JPG</td>\n",
       "    </tr>\n",
       "    <tr>\n",
       "      <th>P7999186.JPG</th>\n",
       "      <td>P7999186.JPG</td>\n",
       "      <td>30.354809</td>\n",
       "      <td>-87.046662</td>\n",
       "      <td>98.87</td>\n",
       "      <td>2020-11-27 16:19:32</td>\n",
       "      <td>Parrot Anafi</td>\n",
       "      <td>4608 x 3456</td>\n",
       "      <td>[30.3548085, -87.046662]</td>\n",
       "      <td>/Users/mckinney/dev/img//P7999186.JPG</td>\n",
       "    </tr>\n",
       "    <tr>\n",
       "      <th>P7999187.JPG</th>\n",
       "      <td>P7999187.JPG</td>\n",
       "      <td>30.354930</td>\n",
       "      <td>-87.046492</td>\n",
       "      <td>98.81</td>\n",
       "      <td>2020-11-27 16:19:35</td>\n",
       "      <td>Parrot Anafi</td>\n",
       "      <td>4608 x 3456</td>\n",
       "      <td>[30.3549304, -87.0464923]</td>\n",
       "      <td>/Users/mckinney/dev/img//P7999187.JPG</td>\n",
       "    </tr>\n",
       "    <tr>\n",
       "      <th>P7989182.JPG</th>\n",
       "      <td>P7989182.JPG</td>\n",
       "      <td>30.354712</td>\n",
       "      <td>-87.047449</td>\n",
       "      <td>98.62</td>\n",
       "      <td>2020-11-27 16:19:04</td>\n",
       "      <td>Parrot Anafi</td>\n",
       "      <td>4608 x 3456</td>\n",
       "      <td>[30.3547121, -87.0474495]</td>\n",
       "      <td>/Users/mckinney/dev/img//P7989182.JPG</td>\n",
       "    </tr>\n",
       "    <tr>\n",
       "      <th>P7989180.JPG</th>\n",
       "      <td>P7989180.JPG</td>\n",
       "      <td>30.354943</td>\n",
       "      <td>-87.047130</td>\n",
       "      <td>99.24</td>\n",
       "      <td>2020-11-27 16:18:57</td>\n",
       "      <td>Parrot Anafi</td>\n",
       "      <td>4608 x 3456</td>\n",
       "      <td>[30.3549428, -87.0471296]</td>\n",
       "      <td>/Users/mckinney/dev/img//P7989180.JPG</td>\n",
       "    </tr>\n",
       "    <tr>\n",
       "      <th>P7999185.JPG</th>\n",
       "      <td>P7999185.JPG</td>\n",
       "      <td>30.354687</td>\n",
       "      <td>-87.046832</td>\n",
       "      <td>98.98</td>\n",
       "      <td>2020-11-27 16:19:29</td>\n",
       "      <td>Parrot Anafi</td>\n",
       "      <td>4608 x 3456</td>\n",
       "      <td>[30.3546866, -87.0468317]</td>\n",
       "      <td>/Users/mckinney/dev/img//P7999185.JPG</td>\n",
       "    </tr>\n",
       "    <tr>\n",
       "      <th>P7999191.JPG</th>\n",
       "      <td>P7999191.JPG</td>\n",
       "      <td>30.355414</td>\n",
       "      <td>-87.045818</td>\n",
       "      <td>98.15</td>\n",
       "      <td>2020-11-27 16:19:48</td>\n",
       "      <td>Parrot Anafi</td>\n",
       "      <td>4608 x 3456</td>\n",
       "      <td>[30.3554143, -87.0458182]</td>\n",
       "      <td>/Users/mckinney/dev/img//P7999191.JPG</td>\n",
       "    </tr>\n",
       "    <tr>\n",
       "      <th>P7999190.JPG</th>\n",
       "      <td>P7999190.JPG</td>\n",
       "      <td>30.355292</td>\n",
       "      <td>-87.045988</td>\n",
       "      <td>98.47</td>\n",
       "      <td>2020-11-27 16:19:45</td>\n",
       "      <td>Parrot Anafi</td>\n",
       "      <td>4608 x 3456</td>\n",
       "      <td>[30.3552924, -87.0459882]</td>\n",
       "      <td>/Users/mckinney/dev/img//P7999190.JPG</td>\n",
       "    </tr>\n",
       "    <tr>\n",
       "      <th>P7999184.JPG</th>\n",
       "      <td>P7999184.JPG</td>\n",
       "      <td>30.354567</td>\n",
       "      <td>-87.046998</td>\n",
       "      <td>99.04</td>\n",
       "      <td>2020-11-27 16:19:25</td>\n",
       "      <td>Parrot Anafi</td>\n",
       "      <td>4608 x 3456</td>\n",
       "      <td>[30.3545673, -87.0469979]</td>\n",
       "      <td>/Users/mckinney/dev/img//P7999184.JPG</td>\n",
       "    </tr>\n",
       "    <tr>\n",
       "      <th>P7989181.JPG</th>\n",
       "      <td>P7989181.JPG</td>\n",
       "      <td>30.354823</td>\n",
       "      <td>-87.047297</td>\n",
       "      <td>98.88</td>\n",
       "      <td>2020-11-27 16:19:00</td>\n",
       "      <td>Parrot Anafi</td>\n",
       "      <td>4608 x 3456</td>\n",
       "      <td>[30.354823, -87.0472968]</td>\n",
       "      <td>/Users/mckinney/dev/img//P7989181.JPG</td>\n",
       "    </tr>\n",
       "  </tbody>\n",
       "</table>\n",
       "</div>"
      ],
      "text/plain": [
       "                  filename      latdd     longdd  altitude  \\\n",
       "P7989173.JPG  P7989173.JPG  30.355786 -87.045954     98.83   \n",
       "P7999189.JPG  P7999189.JPG  30.355173 -87.046155     98.48   \n",
       "P7999188.JPG  P7999188.JPG  30.355051 -87.046325     98.55   \n",
       "P7989175.JPG  P7989175.JPG  30.355548 -87.046286     98.97   \n",
       "P7989174.JPG  P7989174.JPG  30.355667 -87.046120     98.93   \n",
       "P7989176.JPG  P7989176.JPG  30.355424 -87.046458     99.35   \n",
       "P7989177.JPG  P7989177.JPG  30.355305 -87.046625     99.51   \n",
       "P7989179.JPG  P7989179.JPG  30.355062 -87.046963     99.37   \n",
       "P7999183.JPG  P7999183.JPG  30.354429 -87.047188     98.54   \n",
       "P7989178.JPG  P7989178.JPG  30.355184 -87.046793     99.36   \n",
       "P7999192.JPG  P7999192.JPG  30.355534 -87.045651     97.69   \n",
       "P7999186.JPG  P7999186.JPG  30.354809 -87.046662     98.87   \n",
       "P7999187.JPG  P7999187.JPG  30.354930 -87.046492     98.81   \n",
       "P7989182.JPG  P7989182.JPG  30.354712 -87.047449     98.62   \n",
       "P7989180.JPG  P7989180.JPG  30.354943 -87.047130     99.24   \n",
       "P7999185.JPG  P7999185.JPG  30.354687 -87.046832     98.98   \n",
       "P7999191.JPG  P7999191.JPG  30.355414 -87.045818     98.15   \n",
       "P7999190.JPG  P7999190.JPG  30.355292 -87.045988     98.47   \n",
       "P7999184.JPG  P7999184.JPG  30.354567 -87.046998     99.04   \n",
       "P7989181.JPG  P7989181.JPG  30.354823 -87.047297     98.88   \n",
       "\n",
       "                        datetime     makemodel height_width  \\\n",
       "P7989173.JPG 2020-11-27 16:18:35  Parrot Anafi  4608 x 3456   \n",
       "P7999189.JPG 2020-11-27 16:19:41  Parrot Anafi  4608 x 3456   \n",
       "P7999188.JPG 2020-11-27 16:19:38  Parrot Anafi  4608 x 3456   \n",
       "P7989175.JPG 2020-11-27 16:18:41  Parrot Anafi  4608 x 3456   \n",
       "P7989174.JPG 2020-11-27 16:18:38  Parrot Anafi  4608 x 3456   \n",
       "P7989176.JPG 2020-11-27 16:18:44  Parrot Anafi  4608 x 3456   \n",
       "P7989177.JPG 2020-11-27 16:18:47  Parrot Anafi  4608 x 3456   \n",
       "P7989179.JPG 2020-11-27 16:18:54  Parrot Anafi  4608 x 3456   \n",
       "P7999183.JPG 2020-11-27 16:19:19  Parrot Anafi  4608 x 3456   \n",
       "P7989178.JPG 2020-11-27 16:18:51  Parrot Anafi  4608 x 3456   \n",
       "P7999192.JPG 2020-11-27 16:19:51  Parrot Anafi  4608 x 3456   \n",
       "P7999186.JPG 2020-11-27 16:19:32  Parrot Anafi  4608 x 3456   \n",
       "P7999187.JPG 2020-11-27 16:19:35  Parrot Anafi  4608 x 3456   \n",
       "P7989182.JPG 2020-11-27 16:19:04  Parrot Anafi  4608 x 3456   \n",
       "P7989180.JPG 2020-11-27 16:18:57  Parrot Anafi  4608 x 3456   \n",
       "P7999185.JPG 2020-11-27 16:19:29  Parrot Anafi  4608 x 3456   \n",
       "P7999191.JPG 2020-11-27 16:19:48  Parrot Anafi  4608 x 3456   \n",
       "P7999190.JPG 2020-11-27 16:19:45  Parrot Anafi  4608 x 3456   \n",
       "P7999184.JPG 2020-11-27 16:19:25  Parrot Anafi  4608 x 3456   \n",
       "P7989181.JPG 2020-11-27 16:19:00  Parrot Anafi  4608 x 3456   \n",
       "\n",
       "                                xy_pair                               filepath  \n",
       "P7989173.JPG  [30.3557859, -87.0459538]  /Users/mckinney/dev/img//P7989173.JPG  \n",
       "P7999189.JPG   [30.355173, -87.0461552]  /Users/mckinney/dev/img//P7999189.JPG  \n",
       "P7999188.JPG  [30.3550509, -87.0463254]  /Users/mckinney/dev/img//P7999188.JPG  \n",
       "P7989175.JPG  [30.3555478, -87.0462861]  /Users/mckinney/dev/img//P7989175.JPG  \n",
       "P7989174.JPG  [30.3556671, -87.0461199]  /Users/mckinney/dev/img//P7989174.JPG  \n",
       "P7989176.JPG   [30.3554244, -87.046458]  /Users/mckinney/dev/img//P7989176.JPG  \n",
       "P7989177.JPG  [30.3553049, -87.0466248]  /Users/mckinney/dev/img//P7989177.JPG  \n",
       "P7989179.JPG  [30.3550621, -87.0469633]  /Users/mckinney/dev/img//P7989179.JPG  \n",
       "P7999183.JPG  [30.3544292, -87.0471876]  /Users/mckinney/dev/img//P7999183.JPG  \n",
       "P7989178.JPG  [30.3551844, -87.0467926]  /Users/mckinney/dev/img//P7989178.JPG  \n",
       "P7999192.JPG  [30.3555342, -87.0456508]  /Users/mckinney/dev/img//P7999192.JPG  \n",
       "P7999186.JPG   [30.3548085, -87.046662]  /Users/mckinney/dev/img//P7999186.JPG  \n",
       "P7999187.JPG  [30.3549304, -87.0464923]  /Users/mckinney/dev/img//P7999187.JPG  \n",
       "P7989182.JPG  [30.3547121, -87.0474495]  /Users/mckinney/dev/img//P7989182.JPG  \n",
       "P7989180.JPG  [30.3549428, -87.0471296]  /Users/mckinney/dev/img//P7989180.JPG  \n",
       "P7999185.JPG  [30.3546866, -87.0468317]  /Users/mckinney/dev/img//P7999185.JPG  \n",
       "P7999191.JPG  [30.3554143, -87.0458182]  /Users/mckinney/dev/img//P7999191.JPG  \n",
       "P7999190.JPG  [30.3552924, -87.0459882]  /Users/mckinney/dev/img//P7999190.JPG  \n",
       "P7999184.JPG  [30.3545673, -87.0469979]  /Users/mckinney/dev/img//P7999184.JPG  \n",
       "P7989181.JPG   [30.354823, -87.0472968]  /Users/mckinney/dev/img//P7989181.JPG  "
      ]
     },
     "execution_count": 4,
     "metadata": {},
     "output_type": "execute_result"
    }
   ],
   "source": [
    "df = dict_to_df(fc.selected)\n",
    "df"
   ]
  },
  {
   "cell_type": "markdown",
   "id": "bb144552",
   "metadata": {},
   "source": [
    "## Img to CSV\n"
   ]
  },
  {
   "cell_type": "code",
   "execution_count": 5,
   "id": "715b81a0",
   "metadata": {},
   "outputs": [
    {
     "name": "stdout",
     "output_type": "stream",
     "text": [
      "filename,latdd,longdd,altitude,datetime,makemodel,height_width,xy_pair,filepath\n",
      "\n",
      "P7989173.JPG,30.3557859,-87.0459538,98.83,2020-11-27 16:18:35,Parrot Anafi,4608 x 3456,\"[30.3557859, -87.0459538]\",/Users/mckinney/dev/img//P7989173.JPG\n",
      "\n",
      "P7999189.JPG,30.355173,-87.0461552,98.48,2020-11-27 16:19:41,Parrot Anafi,4608 x 3456,\"[30.355173, -87.0461552]\",/Users/mckinney/dev/img//P7999189.JPG\n",
      "\n",
      "P7999188.JPG,30.3550509,-87.0463254,98.55,2020-11-27 16:19:38,Parrot Anafi,4608 x 3456,\"[30.3550509, -87.0463254]\",/Users/mckinney/dev/img//P7999188.JPG\n",
      "\n",
      "P7989175.JPG,30.3555478,-87.0462861,98.97,2020-11-27 16:18:41,Parrot Anafi,4608 x 3456,\"[30.3555478, -87.0462861]\",/Users/mckinney/dev/img//P7989175.JPG\n",
      "\n",
      "P7989174.JPG,30.3556671,-87.0461199,98.93,2020-11-27 16:18:38,Parrot Anafi,4608 x 3456,\"[30.3556671, -87.0461199]\",/Users/mckinney/dev/img//P7989174.JPG\n",
      "\n",
      "P7989176.JPG,30.3554244,-87.046458,99.35,2020-11-27 16:18:44,Parrot Anafi,4608 x 3456,\"[30.3554244, -87.046458]\",/Users/mckinney/dev/img//P7989176.JPG\n",
      "\n",
      "P7989177.JPG,30.3553049,-87.0466248,99.51,2020-11-27 16:18:47,Parrot Anafi,4608 x 3456,\"[30.3553049, -87.0466248]\",/Users/mckinney/dev/img//P7989177.JPG\n",
      "\n",
      "P7989179.JPG,30.3550621,-87.0469633,99.37,2020-11-27 16:18:54,Parrot Anafi,4608 x 3456,\"[30.3550621, -87.0469633]\",/Users/mckinney/dev/img//P7989179.JPG\n",
      "\n",
      "P7999183.JPG,30.3544292,-87.0471876,98.54,2020-11-27 16:19:19,Parrot Anafi,4608 x 3456,\"[30.3544292, -87.0471876]\",/Users/mckinney/dev/img//P7999183.JPG\n",
      "\n",
      "P7989178.JPG,30.3551844,-87.0467926,99.36,2020-11-27 16:18:51,Parrot Anafi,4608 x 3456,\"[30.3551844, -87.0467926]\",/Users/mckinney/dev/img//P7989178.JPG\n",
      "\n",
      "P7999192.JPG,30.3555342,-87.0456508,97.69,2020-11-27 16:19:51,Parrot Anafi,4608 x 3456,\"[30.3555342, -87.0456508]\",/Users/mckinney/dev/img//P7999192.JPG\n",
      "\n",
      "P7999186.JPG,30.3548085,-87.046662,98.87,2020-11-27 16:19:32,Parrot Anafi,4608 x 3456,\"[30.3548085, -87.046662]\",/Users/mckinney/dev/img//P7999186.JPG\n",
      "\n",
      "P7999187.JPG,30.3549304,-87.0464923,98.81,2020-11-27 16:19:35,Parrot Anafi,4608 x 3456,\"[30.3549304, -87.0464923]\",/Users/mckinney/dev/img//P7999187.JPG\n",
      "\n",
      "P7989182.JPG,30.3547121,-87.0474495,98.62,2020-11-27 16:19:04,Parrot Anafi,4608 x 3456,\"[30.3547121, -87.0474495]\",/Users/mckinney/dev/img//P7989182.JPG\n",
      "\n",
      "P7989180.JPG,30.3549428,-87.0471296,99.24,2020-11-27 16:18:57,Parrot Anafi,4608 x 3456,\"[30.3549428, -87.0471296]\",/Users/mckinney/dev/img//P7989180.JPG\n",
      "\n",
      "P7999185.JPG,30.3546866,-87.0468317,98.98,2020-11-27 16:19:29,Parrot Anafi,4608 x 3456,\"[30.3546866, -87.0468317]\",/Users/mckinney/dev/img//P7999185.JPG\n",
      "\n",
      "P7999191.JPG,30.3554143,-87.0458182,98.15,2020-11-27 16:19:48,Parrot Anafi,4608 x 3456,\"[30.3554143, -87.0458182]\",/Users/mckinney/dev/img//P7999191.JPG\n",
      "\n",
      "P7999190.JPG,30.3552924,-87.0459882,98.47,2020-11-27 16:19:45,Parrot Anafi,4608 x 3456,\"[30.3552924, -87.0459882]\",/Users/mckinney/dev/img//P7999190.JPG\n",
      "\n",
      "P7999184.JPG,30.3545673,-87.0469979,99.04,2020-11-27 16:19:25,Parrot Anafi,4608 x 3456,\"[30.3545673, -87.0469979]\",/Users/mckinney/dev/img//P7999184.JPG\n",
      "\n",
      "P7989181.JPG,30.354823,-87.0472968,98.88,2020-11-27 16:19:00,Parrot Anafi,4608 x 3456,\"[30.354823, -87.0472968]\",/Users/mckinney/dev/img//P7989181.JPG\n",
      "\n"
     ]
    }
   ],
   "source": [
    "img_to_csv(fc.selected, fname='images.csv')\n",
    "\n",
    "with open(\"images.csv\", \"r\") as table:\n",
    "    for row in table:\n",
    "        print(row)"
   ]
  },
  {
   "cell_type": "markdown",
   "id": "e63cea3e",
   "metadata": {},
   "source": [
    "## Img to GeoJSON"
   ]
  },
  {
   "cell_type": "code",
   "execution_count": 6,
   "id": "005122c0",
   "metadata": {},
   "outputs": [
    {
     "name": "stdout",
     "output_type": "stream",
     "text": [
      "20 geotagged images saved to GeoJSON file\n"
     ]
    }
   ],
   "source": [
    "img_to_geojson(fc.selected, fname='images.geojson')"
   ]
  },
  {
   "cell_type": "markdown",
   "id": "61cc0900",
   "metadata": {},
   "source": [
    "## Img to GeoPackage"
   ]
  },
  {
   "cell_type": "code",
   "execution_count": 7,
   "id": "b275a3c0",
   "metadata": {},
   "outputs": [
    {
     "name": "stdout",
     "output_type": "stream",
     "text": [
      "20 geotagged images saved to GeoPackage file\n"
     ]
    }
   ],
   "source": [
    "img_to_geopackage(fc.selected, fname='images.gpkg')"
   ]
  },
  {
   "cell_type": "markdown",
   "id": "375581de",
   "metadata": {},
   "source": [
    "## Img to KML"
   ]
  },
  {
   "cell_type": "code",
   "execution_count": 8,
   "id": "064fc467",
   "metadata": {},
   "outputs": [
    {
     "name": "stdout",
     "output_type": "stream",
     "text": [
      "20 geotagged images saved to KML file\n"
     ]
    }
   ],
   "source": [
    "img_to_kml(fc.selected, fname='images.kml')"
   ]
  },
  {
   "cell_type": "markdown",
   "id": "1990beb1",
   "metadata": {},
   "source": [
    "## Img to Shapefile"
   ]
  },
  {
   "cell_type": "code",
   "execution_count": 10,
   "id": "4d3e0f49",
   "metadata": {},
   "outputs": [
    {
     "name": "stdout",
     "output_type": "stream",
     "text": [
      "20 geotagged images saved to shapefile\n"
     ]
    },
    {
     "name": "stderr",
     "output_type": "stream",
     "text": [
      "/Users/mckinney/uassist/uassist/conversions.py:52: UserWarning: Column names longer than 10 characters will be truncated when saved to ESRI Shapefile.\n",
      "  gdf.to_file(\"imgs_shp.shp\")\n"
     ]
    }
   ],
   "source": [
    "img_to_shp(fc.selected, fname='images.shp')"
   ]
  },
  {
   "cell_type": "code",
   "execution_count": 16,
   "id": "6c06df1a",
   "metadata": {},
   "outputs": [
    {
     "data": {
      "application/vnd.jupyter.widget-view+json": {
       "model_id": "3dba4cd53034481baf34323b7b8f1067",
       "version_major": 2,
       "version_minor": 0
      },
      "text/plain": [
       "Map(center=[40, -100], controls=(ZoomControl(options=['position', 'zoom_in_text', 'zoom_in_title', 'zoom_out_t…"
      ]
     },
     "metadata": {},
     "output_type": "display_data"
    }
   ],
   "source": [
    "m = uassist.Map(google_map = \"HYBRID\", height=\"600px\")\n",
    "m"
   ]
  },
  {
   "cell_type": "markdown",
   "id": "81fae726",
   "metadata": {},
   "source": [
    "## Add GeoJSON to map"
   ]
  },
  {
   "cell_type": "code",
   "execution_count": 15,
   "id": "fcc706e3",
   "metadata": {},
   "outputs": [],
   "source": [
    "in_geojson = \"images.geojson\"\n",
    "m.add_geojson(in_geojson)"
   ]
  },
  {
   "cell_type": "markdown",
   "id": "f487f6bf",
   "metadata": {},
   "source": [
    "## Add locations from GeoDataFrame"
   ]
  },
  {
   "cell_type": "code",
   "execution_count": 25,
   "id": "33774082",
   "metadata": {},
   "outputs": [],
   "source": [
    "from ipyleaflet import GeoData\n",
    "df = dict_to_df(fc.selected)\n",
    "for x in  df.select_dtypes(include=['datetime64']).columns.tolist(): df[x] = df[x].astype(str)\n",
    "gdf = df_to_gdf(df)\n",
    "gdflyr = GeoData(geo_dataframe = gdf)\n",
    "m.add_layer(gdflyr)"
   ]
  },
  {
   "cell_type": "code",
   "execution_count": null,
   "id": "9dde117c",
   "metadata": {},
   "outputs": [],
   "source": []
  }
 ],
 "metadata": {
  "kernelspec": {
   "display_name": "Python 3",
   "language": "python",
   "name": "python3"
  },
  "language_info": {
   "codemirror_mode": {
    "name": "ipython",
    "version": 3
   },
   "file_extension": ".py",
   "mimetype": "text/x-python",
   "name": "python",
   "nbconvert_exporter": "python",
   "pygments_lexer": "ipython3",
   "version": "3.8.8"
  }
 },
 "nbformat": 4,
 "nbformat_minor": 5
}
