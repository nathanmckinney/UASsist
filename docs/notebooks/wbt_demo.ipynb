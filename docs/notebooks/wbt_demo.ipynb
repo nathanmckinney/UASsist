{
 "cells": [
  {
   "cell_type": "code",
   "execution_count": null,
   "id": "dd3ba527",
   "metadata": {},
   "outputs": [],
   "source": [
    "import whitebox, os\n",
    "import ipywidgets as widgets\n",
    "wbt = whitebox.WhiteboxTools()"
   ]
  },
  {
   "cell_type": "code",
   "execution_count": null,
   "id": "9c758450",
   "metadata": {
    "scrolled": true
   },
   "outputs": [],
   "source": [
    "print(\"Version information: {}\".format(wbt.version()))"
   ]
  },
  {
   "cell_type": "code",
   "execution_count": null,
   "id": "dacc6f23",
   "metadata": {},
   "outputs": [],
   "source": [
    "tools = wbt.list_tools()\n",
    "toolnames = list(tools.keys())\n",
    "#print(toolnames)\n",
    "widgets.Combobox(\n",
    "    # value='John',\n",
    "    placeholder='Choose Someone',\n",
    "    options=toolnames,\n",
    "    description='Combobox:',\n",
    "    ensure_option=True,\n",
    "    disabled=False\n",
    ")\n"
   ]
  },
  {
   "cell_type": "code",
   "execution_count": null,
   "id": "891a97bd",
   "metadata": {},
   "outputs": [],
   "source": [
    "\n"
   ]
  },
  {
   "cell_type": "code",
   "execution_count": null,
   "id": "9b2e70f4",
   "metadata": {},
   "outputs": [],
   "source": []
  }
 ],
 "metadata": {
  "kernelspec": {
   "display_name": "Python 3",
   "language": "python",
   "name": "python3"
  },
  "language_info": {
   "codemirror_mode": {
    "name": "ipython",
    "version": 3
   },
   "file_extension": ".py",
   "mimetype": "text/x-python",
   "name": "python",
   "nbconvert_exporter": "python",
   "pygments_lexer": "ipython3",
   "version": "3.8.8"
  }
 },
 "nbformat": 4,
 "nbformat_minor": 5
}
