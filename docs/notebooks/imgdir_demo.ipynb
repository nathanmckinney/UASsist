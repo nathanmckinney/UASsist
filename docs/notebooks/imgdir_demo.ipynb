{
 "cells": [
  {
   "cell_type": "code",
   "execution_count": 1,
   "id": "51dd9364",
   "metadata": {},
   "outputs": [],
   "source": [
    "import uassist, ipyfilechooser, os\n",
    "import ipywidgets as widgets\n",
    "from uassist.imgtag import imgdir\n",
    "from ipyleaflet import WidgetControl\n",
    "from ipyfilechooser import FileChooser"
   ]
  },
  {
   "cell_type": "markdown",
   "id": "4f3e179d",
   "metadata": {},
   "source": [
    "## Select path to folder directory\n",
    "Choose the directory containing .jpg or .tif images. Currently the images must all be in this folder and not in any sub-directories."
   ]
  },
  {
   "cell_type": "code",
   "execution_count": 2,
   "id": "07574060",
   "metadata": {},
   "outputs": [
    {
     "data": {
      "application/vnd.jupyter.widget-view+json": {
       "model_id": "7fc6fb282f664fb9b8eef3f55bebce15",
       "version_major": 2,
       "version_minor": 0
      },
      "text/plain": [
       "FileChooser(path='/Users/mckinney/dev/img', filename='', title='HTML(value='<b>Select folder containing image …"
      ]
     },
     "metadata": {},
     "output_type": "display_data"
    }
   ],
   "source": [
    "folderpath = os.path.abspath('/Users/mckinney/dev/img')\n",
    "fc = FileChooser(folderpath,\n",
    "    show_only_dirs = True,\n",
    "    use_dir_icons = True,\n",
    "    select_default = True,\n",
    "    title = '<b>Select folder containing image files</b>'\n",
    ")\n",
    "display(fc)"
   ]
  },
  {
   "cell_type": "markdown",
   "id": "64144a51",
   "metadata": {},
   "source": [
    "### Display info and Map\n",
    "\n",
    "![display photo locations](https://i.imgur.com/I6A2mY8.gif)"
   ]
  },
  {
   "cell_type": "code",
   "execution_count": 4,
   "id": "c20ec158",
   "metadata": {},
   "outputs": [
    {
     "name": "stdout",
     "output_type": "stream",
     "text": [
      "/Users/mckinney/dev/img/\n",
      "Image Count: 20\n",
      "Average Altitude: 98.832\n",
      "Max Altitude 99.51\n",
      "Min Altitude: 97.69\n",
      "UAS Make & Model(s): ['Parrot Anafi']\n",
      "Image resolution(s): ['4608 x 3456']\n",
      "Time range: 2020-11-27 16:18:35 - 2020-11-27 16:19:51\n"
     ]
    },
    {
     "data": {
      "application/vnd.jupyter.widget-view+json": {
       "model_id": "1bff667cd69141b8adedb740faaaf056",
       "version_major": 2,
       "version_minor": 0
      },
      "text/plain": [
       "Map(center=[40, -100], controls=(ZoomControl(options=['position', 'zoom_in_text', 'zoom_in_title', 'zoom_out_t…"
      ]
     },
     "metadata": {},
     "output_type": "display_data"
    }
   ],
   "source": [
    "print(fc.selected)\n",
    "imgdir(fc.selected)"
   ]
  },
  {
   "cell_type": "markdown",
   "id": "bb285d1a",
   "metadata": {},
   "source": [
    "### Change Basemaps or add GeoJSON/Shapefiles\n",
    "\n",
    "![change basemap](https://i.imgur.com/PTBOvXI.gif)"
   ]
  },
  {
   "cell_type": "code",
   "execution_count": null,
   "id": "15674671",
   "metadata": {},
   "outputs": [],
   "source": []
  },
  {
   "cell_type": "code",
   "execution_count": null,
   "id": "40afa1bb",
   "metadata": {},
   "outputs": [],
   "source": []
  }
 ],
 "metadata": {
  "kernelspec": {
   "display_name": "Python 3",
   "language": "python",
   "name": "python3"
  },
  "language_info": {
   "codemirror_mode": {
    "name": "ipython",
    "version": 3
   },
   "file_extension": ".py",
   "mimetype": "text/x-python",
   "name": "python",
   "nbconvert_exporter": "python",
   "pygments_lexer": "ipython3",
   "version": "3.8.8"
  }
 },
 "nbformat": 4,
 "nbformat_minor": 5
}
