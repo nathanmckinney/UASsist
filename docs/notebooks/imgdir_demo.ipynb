{
 "cells": [
  {
   "cell_type": "code",
   "execution_count": 1,
   "id": "dff261b1",
   "metadata": {},
   "outputs": [],
   "source": [
    "import uassist\n",
    "from uassist.imgtag import imgdir"
   ]
  },
  {
   "cell_type": "code",
   "execution_count": 2,
   "id": "ac7e19fc",
   "metadata": {},
   "outputs": [],
   "source": [
    "folderpath = '/Users/mckinney/dev/img'"
   ]
  },
  {
   "cell_type": "code",
   "execution_count": 3,
   "id": "cd10f7ff",
   "metadata": {},
   "outputs": [
    {
     "name": "stdout",
     "output_type": "stream",
     "text": [
      "Image Count: 20\n",
      "Average Altitude: 98.832\n",
      "Max Altitude 99.51\n",
      "Min Altitude: 97.69\n",
      "UAS Make & Model(s): ['Parrot Anafi']\n",
      "Image resolution(s): ['4608 x 3456']\n",
      "Time range: 2020-11-27 16:18:35 - 2020-11-27 16:19:51\n"
     ]
    },
    {
     "data": {
      "application/vnd.jupyter.widget-view+json": {
       "model_id": "3fa674bc6b8f42a79b5aad4f60b5f5c8",
       "version_major": 2,
       "version_minor": 0
      },
      "text/plain": [
       "Map(center=[40, -100], controls=(ZoomControl(options=['position', 'zoom_in_text', 'zoom_in_title', 'zoom_out_t…"
      ]
     },
     "metadata": {},
     "output_type": "display_data"
    }
   ],
   "source": [
    "imgdir(folderpath)"
   ]
  },
  {
   "cell_type": "code",
   "execution_count": null,
   "id": "e74f94ba",
   "metadata": {},
   "outputs": [],
   "source": []
  },
  {
   "cell_type": "code",
   "execution_count": null,
   "id": "f0d55170",
   "metadata": {},
   "outputs": [],
   "source": []
  }
 ],
 "metadata": {
  "kernelspec": {
   "display_name": "Python 3",
   "language": "python",
   "name": "python3"
  },
  "language_info": {
   "codemirror_mode": {
    "name": "ipython",
    "version": 3
   },
   "file_extension": ".py",
   "mimetype": "text/x-python",
   "name": "python",
   "nbconvert_exporter": "python",
   "pygments_lexer": "ipython3",
   "version": "3.8.8"
  }
 },
 "nbformat": 4,
 "nbformat_minor": 5
}
