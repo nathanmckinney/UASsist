{
 "cells": [
  {
   "cell_type": "code",
   "execution_count": null,
   "id": "51dd9364",
   "metadata": {},
   "outputs": [],
   "source": [
    "import uassist, ipyfilechooser, os\n",
    "import ipywidgets as widgets\n",
    "from uassist.imgtag import imgdir\n",
    "from ipyleaflet import WidgetControl\n",
    "from ipyfilechooser import FileChooser"
   ]
  },
  {
   "cell_type": "markdown",
   "id": "7187c3f7",
   "metadata": {},
   "source": [
    "## Select path to folder directory\n",
    "Choose the directory containing .jpg or .tif images. Currently the images must all be in this folder and not in any sub-directories."
   ]
  },
  {
   "cell_type": "code",
   "execution_count": null,
   "id": "fcd5739e",
   "metadata": {},
   "outputs": [],
   "source": [
    "folderpath = os.path.abspath('/Users/mckinney/dev/img')\n",
    "fc = FileChooser(folderpath,\n",
    "    show_only_dirs = True,\n",
    "    use_dir_icons = True,\n",
    "    select_default = True,\n",
    "    title = '<b>Select folder containing image files</b>'\n",
    ")\n",
    "display(fc)"
   ]
  },
  {
   "cell_type": "markdown",
   "id": "2d8dc5fe",
   "metadata": {},
   "source": [
    "### Display info and Map"
   ]
  },
  {
   "cell_type": "code",
   "execution_count": null,
   "id": "c20ec158",
   "metadata": {},
   "outputs": [],
   "source": [
    "print(fc.selected)\n",
    "imgdir(fc.selected)"
   ]
  },
  {
   "cell_type": "code",
   "execution_count": null,
   "id": "8b8585ec",
   "metadata": {},
   "outputs": [],
   "source": []
  },
  {
   "cell_type": "code",
   "execution_count": null,
   "id": "14267db4",
   "metadata": {},
   "outputs": [],
   "source": []
  }
 ],
 "metadata": {
  "kernelspec": {
   "display_name": "Python 3",
   "language": "python",
   "name": "python3"
  },
  "language_info": {
   "codemirror_mode": {
    "name": "ipython",
    "version": 3
   },
   "file_extension": ".py",
   "mimetype": "text/x-python",
   "name": "python",
   "nbconvert_exporter": "python",
   "pygments_lexer": "ipython3",
   "version": "3.8.8"
  }
 },
 "nbformat": 4,
 "nbformat_minor": 5
}
