{
 "cells": [
  {
   "cell_type": "code",
   "execution_count": null,
   "id": "familiar-document",
   "metadata": {},
   "outputs": [],
   "source": [
    "import uassist, ipyfilechooser, os\n",
    "import ipywidgets as widgets\n",
    "from uassist.imgtag import imgtag\n",
    "from ipyfilechooser import FileChooser"
   ]
  },
  {
   "cell_type": "markdown",
   "id": "future-saskatchewan",
   "metadata": {},
   "source": [
    "The input is any JPEG or TIFF image. The package reads the metadata embedded in the file and returns the information relevant to photos taken as part of drone photogrammetry projects."
   ]
  },
  {
   "cell_type": "code",
   "execution_count": null,
   "id": "66a9f362",
   "metadata": {},
   "outputs": [],
   "source": [
    "fc = FileChooser(\n",
    "    path=os.path.abspath(os.path.join(os.getcwd(), 'data/')),\n",
    "    filename='img1.JPG',\n",
    "    filter_pattern = ['*.jpg', '*.tif', '*.JPG', '.TIF'],\n",
    "    show_only_dirs = False,\n",
    "    use_dir_icons = True,\n",
    "    select_default = True,\n",
    "    title = '<b>Select image file</b>'\n",
    ")\n",
    "display(fc)"
   ]
  },
  {
   "cell_type": "code",
   "execution_count": null,
   "id": "boolean-internship",
   "metadata": {},
   "outputs": [],
   "source": [
    "xyz = imgtag(fc.selected)\n",
    "xy = (xyz[0],xyz[1])\n",
    "m = uassist.Map(center=xy, zoom=15, google_map = \"HYBRID\")\n",
    "marker = uassist.Marker(location=xy, draggable=False)\n",
    "m.add_layer(marker);\n",
    "m"
   ]
  },
  {
   "cell_type": "code",
   "execution_count": null,
   "id": "8841d079",
   "metadata": {},
   "outputs": [],
   "source": []
  }
 ],
 "metadata": {
  "celltoolbar": "Raw Cell Format",
  "kernelspec": {
   "display_name": "Python 3",
   "language": "python",
   "name": "python3"
  },
  "language_info": {
   "codemirror_mode": {
    "name": "ipython",
    "version": 3
   },
   "file_extension": ".py",
   "mimetype": "text/x-python",
   "name": "python",
   "nbconvert_exporter": "python",
   "pygments_lexer": "ipython3",
   "version": "3.8.8"
  }
 },
 "nbformat": 4,
 "nbformat_minor": 5
}
