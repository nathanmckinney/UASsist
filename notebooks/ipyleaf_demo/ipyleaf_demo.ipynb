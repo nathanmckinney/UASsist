{
 "cells": [
  {
   "cell_type": "code",
   "execution_count": null,
   "id": "c58d6aec",
   "metadata": {},
   "outputs": [],
   "source": [
    "import ipyleaflet"
   ]
  },
  {
   "cell_type": "code",
   "execution_count": null,
   "id": "455eed55",
   "metadata": {},
   "outputs": [],
   "source": [
    "m = ipyleaflet.Map()\n",
    "m"
   ]
  },
  {
   "cell_type": "code",
   "execution_count": null,
   "id": "836904f9",
   "metadata": {},
   "outputs": [],
   "source": [
    "from ipyleaflet import Map, FullScreenControl, LayersControl, DrawControl, MeasureControl, ScaleControl"
   ]
  },
  {
   "cell_type": "code",
   "execution_count": null,
   "id": "82c01c69",
   "metadata": {},
   "outputs": [],
   "source": [
    "m = Map(center=[40, -100], zoom=4, scroll_wheel_zoom=True)\n",
    "m.layout.height=\"600px\"\n",
    "m"
   ]
  },
  {
   "cell_type": "code",
   "execution_count": null,
   "id": "44a9afd9",
   "metadata": {},
   "outputs": [],
   "source": [
    "m.add_control(FullScreenControl())"
   ]
  },
  {
   "cell_type": "code",
   "execution_count": null,
   "id": "c5c9f560",
   "metadata": {},
   "outputs": [],
   "source": [
    "m.add_control(LayersControl(position=\"topright\"))"
   ]
  },
  {
   "cell_type": "code",
   "execution_count": null,
   "id": "52657425",
   "metadata": {},
   "outputs": [],
   "source": [
    "m.add_control(DrawControl(position=\"topleft\"))"
   ]
  },
  {
   "cell_type": "code",
   "execution_count": null,
   "id": "d6f596c7",
   "metadata": {},
   "outputs": [],
   "source": [
    "m.add_control(MeasureControl())"
   ]
  },
  {
   "cell_type": "code",
   "execution_count": null,
   "id": "e8761c97",
   "metadata": {},
   "outputs": [],
   "source": [
    "m.add_control(ScaleControl(position=\"bottomleft\"))"
   ]
  },
  {
   "cell_type": "code",
   "execution_count": null,
   "id": "5f05e33b",
   "metadata": {},
   "outputs": [],
   "source": []
  }
 ],
 "metadata": {
  "kernelspec": {
   "display_name": "Python 3",
   "language": "python",
   "name": "python3"
  },
  "language_info": {
   "codemirror_mode": {
    "name": "ipython",
    "version": 3
   },
   "file_extension": ".py",
   "mimetype": "text/x-python",
   "name": "python",
   "nbconvert_exporter": "python",
   "pygments_lexer": "ipython3",
   "version": "3.8.8"
  }
 },
 "nbformat": 4,
 "nbformat_minor": 5
}
