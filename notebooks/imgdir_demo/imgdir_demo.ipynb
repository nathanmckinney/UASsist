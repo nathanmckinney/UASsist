{
 "cells": [
  {
   "cell_type": "code",
   "execution_count": null,
   "id": "51dd9364",
   "metadata": {},
   "outputs": [],
   "source": [
    "import uassist, ipyfilechooser, os, pandas\n",
    "from uassist.imgtag import imgdir\n",
    "from ipyfilechooser import FileChooser"
   ]
  },
  {
   "cell_type": "markdown",
   "id": "4f3e179d",
   "metadata": {},
   "source": [
    "## Select path to folder directory\n",
    "Choose the directory containing .jpg or .tif images. Currently the images must all be in this folder and not in any sub-directories."
   ]
  },
  {
   "cell_type": "code",
   "execution_count": null,
   "id": "07574060",
   "metadata": {},
   "outputs": [],
   "source": [
    "folderpath = os.path.abspath('/Users/mckinney/dev/img')\n",
    "fc = FileChooser(folderpath,\n",
    "    show_only_dirs = True,\n",
    "    use_dir_icons = True,\n",
    "    select_default = True,\n",
    "    title = '<b>Select folder containing image files</b>'\n",
    ")\n",
    "display(fc)"
   ]
  },
  {
   "cell_type": "markdown",
   "id": "64144a51",
   "metadata": {},
   "source": [
    "### Run IMGDIR module\n",
    "   - Displays a summary of information from image data including:\n",
    "       - Average, maximum and minimum altitude\n",
    "       - List of camera/UAS model used in image set\n",
    "       - List of image resolutions in image set\n",
    "       - Range of timestamps on images\n",
    "   - Returns warning messages if multiple cameras, resolutions are found or if altitude range exceeds 10% of average\n",
    "   - Displays map of image locations \n"
   ]
  },
  {
   "cell_type": "code",
   "execution_count": null,
   "id": "c20ec158",
   "metadata": {
    "scrolled": true
   },
   "outputs": [],
   "source": [
    "print(fc.selected)\n",
    "imgdir(fc.selected)"
   ]
  },
  {
   "cell_type": "markdown",
   "id": "bb285d1a",
   "metadata": {},
   "source": [
    "### In map functionality\n",
    "   - Change basemap: choose from list of imagery and cartographic layers\n",
    "   - Add shapefile data\n",
    "   - Click on marker to get image filename, altitude and date/time taken\n",
    "   - Interactive distance measurements on map"
   ]
  },
  {
   "cell_type": "code",
   "execution_count": null,
   "id": "5a48a511",
   "metadata": {},
   "outputs": [],
   "source": []
  }
 ],
 "metadata": {
  "kernelspec": {
   "display_name": "Python 3",
   "language": "python",
   "name": "python3"
  },
  "language_info": {
   "codemirror_mode": {
    "name": "ipython",
    "version": 3
   },
   "file_extension": ".py",
   "mimetype": "text/x-python",
   "name": "python",
   "nbconvert_exporter": "python",
   "pygments_lexer": "ipython3",
   "version": "3.8.8"
  }
 },
 "nbformat": 4,
 "nbformat_minor": 5
}
